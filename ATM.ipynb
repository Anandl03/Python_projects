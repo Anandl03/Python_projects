{
  "nbformat": 4,
  "nbformat_minor": 0,
  "metadata": {
    "colab": {
      "name": "ATM.ipynb",
      "provenance": [],
      "authorship_tag": "ABX9TyN0+wwCjkcvE0SUiVgEo/qE",
      "include_colab_link": true
    },
    "kernelspec": {
      "name": "python3",
      "display_name": "Python 3"
    },
    "language_info": {
      "name": "python"
    }
  },
  "cells": [
    {
      "cell_type": "markdown",
      "metadata": {
        "id": "view-in-github",
        "colab_type": "text"
      },
      "source": [
        "<a href=\"https://colab.research.google.com/github/vaasu2002/Python_projects/blob/main/ATM.ipynb\" target=\"_parent\"><img src=\"https://colab.research.google.com/assets/colab-badge.svg\" alt=\"Open In Colab\"/></a>"
      ]
    },
    {
      "cell_type": "code",
      "metadata": {
        "id": "KcKU2lNi5wc-"
      },
      "source": [
        "pin = 1867\n",
        "balance = 12242342\n",
        "list_accounts_in_bank = [214,546,4235,745745,2423,5745,423,868,2423,865,2423,9678,32532,685,34325,85853634,634,6634]"
      ],
      "execution_count": null,
      "outputs": []
    },
    {
      "cell_type": "code",
      "metadata": {
        "colab": {
          "base_uri": "https://localhost:8080/"
        },
        "id": "9J-4-9czqMYL",
        "outputId": "baabd106-c668-43f4-e1f7-8ce6664fa905"
      },
      "source": [
        "print(\"Welcome to SBI Bank\")\n",
        "\n",
        "def new_pin(p):\n",
        "  pin = p\n",
        "  return pin\n",
        "def new_balance(b):\n",
        "  balance = b\n",
        "chances = 3\n",
        "t = 0\n",
        "while(t<chances):\n",
        "  if(t != chances):\n",
        "    n = int(input(\"Plese enter your four digit pin number: \"))\n",
        "  if(n == pin):\n",
        "    print(\"Correct Pin\")\n",
        "    print(\"Enter 1 to Withdraw\")\n",
        "    print(\"Enter 2 for Balance Inquiry\")\n",
        "    print(\"Enter 3 to change pin\")\n",
        "    print(\"Enter 4 to  transfer money to another SBI account\")\n",
        "    enter = int(input(\"\"))\n",
        "    if(enter == 1):\n",
        "      withdraw = int(input(\"Enter the amount you want to withdraw: \"))\n",
        "      if(balance>=withdraw):\n",
        "        balance = balance - withdraw\n",
        "        print(f\"Current balance is {balance}\")\n",
        "        print()\n",
        "        print(\"Thank you for using SBI\")\n",
        "        break\n",
        "      else:\n",
        "        print(\"Insufficient Balance\")\n",
        "        print(\"re-try\")\n",
        "        break\n",
        "    elif(enter == 2):\n",
        "      print(f\"The Balance in INR {balance}\")\n",
        "      break\n",
        "    elif(enter == 3):\n",
        "      n = int(input(\"Plese enter your current four digit pin number: \"))\n",
        "      if(n == pin):\n",
        "        new_p = int(input(\"Plese enter your new four digit pin number: \"))\n",
        "        print(\"NEW PIN SAVED\")\n",
        "        new_pin(new_p)\n",
        "        break\n",
        "    elif(enter == 4):\n",
        "      new_acc = int(input(\"Plese enter the account number where you want to send the money: \"))\n",
        "      if(new_acc in list_accounts_in_bank):\n",
        "        amount_transfer =int(input(f\"Plese enter the amount you want to transfer in {new_acc}\"))\n",
        "        if(balance<=amount_transfer):\n",
        "          balance = balance - amount_transfer\n",
        "          print(f\"{amount_transfer} transfered to {new_acc}\")\n",
        "          print(f\"Current balance is {balance}\")\n",
        "        else:\n",
        "          print(\"Insufficient Balance\")\n",
        "          print(\"re-try\")\n",
        "          break\n",
        "  else:\n",
        "    t = t + 1\n",
        "    if( t == chances):\n",
        "      print(\"CARD BLOCKED\")\n",
        "      break\n",
        "    else:\n",
        "      print(f\"{chances - t} attempts left4\")"
      ],
      "execution_count": null,
      "outputs": [
        {
          "output_type": "stream",
          "name": "stdout",
          "text": [
            "Welcome to SBI Bank\n",
            "Plese enter your four digit pin number: 5454\n",
            "2 attempts left4\n",
            "Plese enter your four digit pin number: 4545\n",
            "1 attempts left4\n",
            "Plese enter your four digit pin number: 4557\n",
            "CARD BLOCKED\n"
          ]
        }
      ]
    },
    {
      "cell_type": "code",
      "metadata": {
        "colab": {
          "base_uri": "https://localhost:8080/"
        },
        "id": "GmfkBNRSyWB_",
        "outputId": "4970ca52-0253-4f0a-babe-93c064d2a82b"
      },
      "source": [
        "def add(a,b):\n",
        "  return a+b\n",
        "print(add(2,3))"
      ],
      "execution_count": null,
      "outputs": [
        {
          "output_type": "stream",
          "name": "stdout",
          "text": [
            "5\n"
          ]
        }
      ]
    },
    {
      "cell_type": "code",
      "metadata": {
        "id": "6qt9oltNyaNe"
      },
      "source": [
        ""
      ],
      "execution_count": null,
      "outputs": []
    }
  ]
}